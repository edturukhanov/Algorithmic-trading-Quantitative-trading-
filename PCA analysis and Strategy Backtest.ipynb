{
 "cells": [
  {
   "cell_type": "markdown",
   "metadata": {},
   "source": [
    "# Using PCA to identify pairs for PAIR Trading"
   ]
  },
  {
   "cell_type": "markdown",
   "metadata": {},
   "source": [
    "## Import and Install libraries"
   ]
  },
  {
   "cell_type": "code",
   "execution_count": 105,
   "metadata": {},
   "outputs": [
    {
     "name": "stdout",
     "output_type": "stream",
     "text": [
      "Requirement already satisfied: ccxt in c:\\users\\fonma\\anaconda3\\envs\\ml\\lib\\site-packages (1.26.98)\n",
      "Requirement already satisfied: yarl==1.1.0; python_version >= \"3.5.2\" in c:\\users\\fonma\\anaconda3\\envs\\ml\\lib\\site-packages (from ccxt) (1.1.0)\n",
      "Requirement already satisfied: aiohttp==3.6.2; python_version >= \"3.5.2\" in c:\\users\\fonma\\anaconda3\\envs\\ml\\lib\\site-packages (from ccxt) (3.6.2)\n",
      "Requirement already satisfied: certifi>=2018.1.18 in c:\\users\\fonma\\anaconda3\\envs\\ml\\lib\\site-packages (from ccxt) (2020.4.5.1)\n",
      "Requirement already satisfied: requests>=2.18.4 in c:\\users\\fonma\\anaconda3\\envs\\ml\\lib\\site-packages (from ccxt) (2.23.0)\n",
      "Requirement already satisfied: setuptools>=38.5.1 in c:\\users\\fonma\\anaconda3\\envs\\ml\\lib\\site-packages (from ccxt) (46.1.3.post20200330)\n",
      "Requirement already satisfied: cryptography>=2.6.1 in c:\\users\\fonma\\anaconda3\\envs\\ml\\lib\\site-packages (from ccxt) (2.8)\n",
      "Requirement already satisfied: aiodns==1.1.1; python_version >= \"3.5.2\" in c:\\users\\fonma\\anaconda3\\envs\\ml\\lib\\site-packages (from ccxt) (1.1.1)\n",
      "Requirement already satisfied: multidict>=4.0 in c:\\users\\fonma\\anaconda3\\envs\\ml\\lib\\site-packages (from yarl==1.1.0; python_version >= \"3.5.2\"->ccxt) (4.7.5)\n",
      "Requirement already satisfied: idna>=2.0 in c:\\users\\fonma\\anaconda3\\envs\\ml\\lib\\site-packages (from yarl==1.1.0; python_version >= \"3.5.2\"->ccxt) (2.9)\n",
      "Requirement already satisfied: async-timeout<4.0,>=3.0 in c:\\users\\fonma\\anaconda3\\envs\\ml\\lib\\site-packages (from aiohttp==3.6.2; python_version >= \"3.5.2\"->ccxt) (3.0.1)\n",
      "Requirement already satisfied: chardet<4.0,>=2.0 in c:\\users\\fonma\\anaconda3\\envs\\ml\\lib\\site-packages (from aiohttp==3.6.2; python_version >= \"3.5.2\"->ccxt) (3.0.4)\n",
      "Requirement already satisfied: attrs>=17.3.0 in c:\\users\\fonma\\anaconda3\\envs\\ml\\lib\\site-packages (from aiohttp==3.6.2; python_version >= \"3.5.2\"->ccxt) (19.3.0)\n",
      "Requirement already satisfied: urllib3!=1.25.0,!=1.25.1,<1.26,>=1.21.1 in c:\\users\\fonma\\anaconda3\\envs\\ml\\lib\\site-packages (from requests>=2.18.4->ccxt) (1.25.8)\n",
      "Requirement already satisfied: six>=1.4.1 in c:\\users\\fonma\\anaconda3\\envs\\ml\\lib\\site-packages (from cryptography>=2.6.1->ccxt) (1.14.0)\n",
      "Requirement already satisfied: cffi!=1.11.3,>=1.8 in c:\\users\\fonma\\anaconda3\\envs\\ml\\lib\\site-packages (from cryptography>=2.6.1->ccxt) (1.14.0)\n",
      "Requirement already satisfied: pycares>=1.0.0 in c:\\users\\fonma\\anaconda3\\envs\\ml\\lib\\site-packages (from aiodns==1.1.1; python_version >= \"3.5.2\"->ccxt) (3.1.1)\n",
      "Requirement already satisfied: pycparser in c:\\users\\fonma\\anaconda3\\envs\\ml\\lib\\site-packages (from cffi!=1.11.3,>=1.8->cryptography>=2.6.1->ccxt) (2.20)\n",
      "Requirement already satisfied: tqdm in c:\\users\\fonma\\anaconda3\\envs\\ml\\lib\\site-packages (4.45.0)\n",
      "Requirement already satisfied: beautifulsoup4 in c:\\users\\fonma\\anaconda3\\envs\\ml\\lib\\site-packages (4.9.0)\n",
      "Requirement already satisfied: soupsieve>1.2 in c:\\users\\fonma\\anaconda3\\envs\\ml\\lib\\site-packages (from beautifulsoup4) (2.0)\n",
      "Collecting lxml\n",
      "  Downloading lxml-4.5.0-cp37-cp37m-win_amd64.whl (3.7 MB)\n",
      "Installing collected packages: lxml\n",
      "Successfully installed lxml-4.5.0\n"
     ]
    }
   ],
   "source": [
    "#!pip install ccxt\n",
    "#!pip install tqdm\n",
    "#!pip install beautifulsoup4\n",
    "#!pip install lxml"
   ]
  },
  {
   "cell_type": "code",
   "execution_count": 119,
   "metadata": {},
   "outputs": [],
   "source": [
    "from scipy import stats\n",
    "from matplotlib.ticker import MaxNLocator\n",
    "import ccxt \n",
    "from datetime import datetime, timedelta\n",
    "import pandas as pd\n",
    "import time\n",
    "from data_download import download_first_exchange\n",
    "from data_download import pair_exist\n",
    "import numpy as np\n",
    "from matplotlib import pyplot as plt\n",
    "from datetime import time\n",
    "from pandas import Timestamp\n",
    "from mpl_toolkits.mplot3d import Axes3D\n",
    "import re\n",
    "from tqdm import tqdm\n",
    "import seaborn as sns\n",
    "from bs4 import BeautifulSoup\n",
    "import requests as req\n",
    "import re"
   ]
  },
  {
   "cell_type": "markdown",
   "metadata": {},
   "source": [
    "First step is to choose pairs we want to analyse. In this work i am taking Top 20 pairs from Binance exchange by 24h Volume with USDT as base currency.\n",
    "To do that we are parsing Coinmarketcap and extracting these pairs."
   ]
  },
  {
   "cell_type": "code",
   "execution_count": 114,
   "metadata": {},
   "outputs": [],
   "source": [
    "exchange_page = req.get('https://coinmarketcap.com/exchanges/binance/')\n",
    "exchange_data = BeautifulSoup(exchange_page.text, \"html.parser\")\n",
    "pairs = exchange_data.find_all('a',text=re.compile(r'/USDT'))\n",
    "tickers = []\n",
    "for pair in pairs[:20]:\n",
    "    tickers.append(pair.string.replace('/USDT',''))\n",
    "tickers"
   ]
  },
  {
   "cell_type": "markdown",
   "metadata": {},
   "source": [
    "Next step is to download prices of these pairs directly from Binance Exchange and unite them in one table. I do it by using library ccxt and my script(data_download)."
   ]
  },
  {
   "cell_type": "code",
   "execution_count": 154,
   "metadata": {},
   "outputs": [
    {
     "data": {
      "text/plain": [
       "20"
      ]
     },
     "execution_count": 154,
     "metadata": {},
     "output_type": "execute_result"
    }
   ],
   "source": [
    "len(list_)"
   ]
  },
  {
   "cell_type": "code",
   "execution_count": 156,
   "metadata": {},
   "outputs": [
    {
     "data": {
      "text/plain": [
       "20"
      ]
     },
     "execution_count": 156,
     "metadata": {},
     "output_type": "execute_result"
    }
   ],
   "source": [
    "#list_ = []\n",
    "#for ticker in tqdm(tickers):\n",
    " #   df1 =  download_first_exchange(str('binance'), '{}/USDT'.format(ticker), '1h', '2017-09-01 00:00:00')\n",
    "  #  df1.index = pd.to_datetime(df1.index,format='%Y-%m-%d %H:%M:%S')\n",
    "   # df1 = df1[~df1.index.duplicated(keep='first')]\n",
    "    #df1.columns = ['o','h','l','c','v']\n",
    "    #list_.append(df1)\n",
    "len(list_)"
   ]
  },
  {
   "cell_type": "code",
   "execution_count": 155,
   "metadata": {},
   "outputs": [
    {
     "data": {
      "text/html": [
       "<div>\n",
       "<style scoped>\n",
       "    .dataframe tbody tr th:only-of-type {\n",
       "        vertical-align: middle;\n",
       "    }\n",
       "\n",
       "    .dataframe tbody tr th {\n",
       "        vertical-align: top;\n",
       "    }\n",
       "\n",
       "    .dataframe thead th {\n",
       "        text-align: right;\n",
       "    }\n",
       "</style>\n",
       "<table border=\"1\" class=\"dataframe\">\n",
       "  <thead>\n",
       "    <tr style=\"text-align: right;\">\n",
       "      <th></th>\n",
       "      <th>BTC</th>\n",
       "      <th>ETH</th>\n",
       "      <th>BTC</th>\n",
       "      <th>ETH</th>\n",
       "      <th>XTZ</th>\n",
       "      <th>BCH</th>\n",
       "      <th>LINK</th>\n",
       "      <th>LTC</th>\n",
       "      <th>BNB</th>\n",
       "      <th>EOS</th>\n",
       "      <th>XTZ</th>\n",
       "      <th>LTC</th>\n",
       "      <th>ATOM</th>\n",
       "      <th>BUSD</th>\n",
       "      <th>LINK</th>\n",
       "      <th>BNB</th>\n",
       "      <th>BCH</th>\n",
       "      <th>ADA</th>\n",
       "      <th>XRP</th>\n",
       "      <th>EOS</th>\n",
       "    </tr>\n",
       "    <tr>\n",
       "      <th>Date</th>\n",
       "      <th></th>\n",
       "      <th></th>\n",
       "      <th></th>\n",
       "      <th></th>\n",
       "      <th></th>\n",
       "      <th></th>\n",
       "      <th></th>\n",
       "      <th></th>\n",
       "      <th></th>\n",
       "      <th></th>\n",
       "      <th></th>\n",
       "      <th></th>\n",
       "      <th></th>\n",
       "      <th></th>\n",
       "      <th></th>\n",
       "      <th></th>\n",
       "      <th></th>\n",
       "      <th></th>\n",
       "      <th></th>\n",
       "      <th></th>\n",
       "    </tr>\n",
       "  </thead>\n",
       "  <tbody>\n",
       "    <tr>\n",
       "      <th>2019-11-28 10:00:00</th>\n",
       "      <td>7478.58</td>\n",
       "      <td>151.13</td>\n",
       "      <td>7478.58</td>\n",
       "      <td>151.13</td>\n",
       "      <td>1.2437</td>\n",
       "      <td>218.98</td>\n",
       "      <td>2.2359</td>\n",
       "      <td>47.23</td>\n",
       "      <td>15.8646</td>\n",
       "      <td>2.6608</td>\n",
       "      <td>1.2437</td>\n",
       "      <td>47.23</td>\n",
       "      <td>3.649</td>\n",
       "      <td>0.9998</td>\n",
       "      <td>2.2359</td>\n",
       "      <td>15.8646</td>\n",
       "      <td>218.98</td>\n",
       "      <td>0.03861</td>\n",
       "      <td>0.22530</td>\n",
       "      <td>2.6608</td>\n",
       "    </tr>\n",
       "    <tr>\n",
       "      <th>2019-11-28 11:00:00</th>\n",
       "      <td>7479.54</td>\n",
       "      <td>151.57</td>\n",
       "      <td>7479.54</td>\n",
       "      <td>151.57</td>\n",
       "      <td>1.2737</td>\n",
       "      <td>219.04</td>\n",
       "      <td>2.2518</td>\n",
       "      <td>47.36</td>\n",
       "      <td>15.8729</td>\n",
       "      <td>2.6716</td>\n",
       "      <td>1.2737</td>\n",
       "      <td>47.36</td>\n",
       "      <td>3.647</td>\n",
       "      <td>0.9996</td>\n",
       "      <td>2.2518</td>\n",
       "      <td>15.8729</td>\n",
       "      <td>219.04</td>\n",
       "      <td>0.03885</td>\n",
       "      <td>0.22601</td>\n",
       "      <td>2.6716</td>\n",
       "    </tr>\n",
       "    <tr>\n",
       "      <th>2019-11-28 12:00:00</th>\n",
       "      <td>7444.12</td>\n",
       "      <td>150.79</td>\n",
       "      <td>7444.12</td>\n",
       "      <td>150.79</td>\n",
       "      <td>1.2605</td>\n",
       "      <td>217.53</td>\n",
       "      <td>2.2173</td>\n",
       "      <td>46.84</td>\n",
       "      <td>15.6365</td>\n",
       "      <td>2.6448</td>\n",
       "      <td>1.2605</td>\n",
       "      <td>46.84</td>\n",
       "      <td>3.574</td>\n",
       "      <td>0.9997</td>\n",
       "      <td>2.2173</td>\n",
       "      <td>15.6365</td>\n",
       "      <td>217.53</td>\n",
       "      <td>0.03850</td>\n",
       "      <td>0.22497</td>\n",
       "      <td>2.6448</td>\n",
       "    </tr>\n",
       "    <tr>\n",
       "      <th>2019-11-28 13:00:00</th>\n",
       "      <td>7455.67</td>\n",
       "      <td>151.02</td>\n",
       "      <td>7455.67</td>\n",
       "      <td>151.02</td>\n",
       "      <td>1.2597</td>\n",
       "      <td>218.29</td>\n",
       "      <td>2.2101</td>\n",
       "      <td>46.91</td>\n",
       "      <td>15.6387</td>\n",
       "      <td>2.6490</td>\n",
       "      <td>1.2597</td>\n",
       "      <td>46.91</td>\n",
       "      <td>3.644</td>\n",
       "      <td>0.9996</td>\n",
       "      <td>2.2101</td>\n",
       "      <td>15.6387</td>\n",
       "      <td>218.29</td>\n",
       "      <td>0.03846</td>\n",
       "      <td>0.22482</td>\n",
       "      <td>2.6490</td>\n",
       "    </tr>\n",
       "    <tr>\n",
       "      <th>2019-11-28 14:00:00</th>\n",
       "      <td>7459.51</td>\n",
       "      <td>150.89</td>\n",
       "      <td>7459.51</td>\n",
       "      <td>150.89</td>\n",
       "      <td>1.2660</td>\n",
       "      <td>218.67</td>\n",
       "      <td>2.2335</td>\n",
       "      <td>47.03</td>\n",
       "      <td>15.7036</td>\n",
       "      <td>2.6518</td>\n",
       "      <td>1.2660</td>\n",
       "      <td>47.03</td>\n",
       "      <td>3.631</td>\n",
       "      <td>0.9998</td>\n",
       "      <td>2.2335</td>\n",
       "      <td>15.7036</td>\n",
       "      <td>218.67</td>\n",
       "      <td>0.03875</td>\n",
       "      <td>0.22514</td>\n",
       "      <td>2.6518</td>\n",
       "    </tr>\n",
       "  </tbody>\n",
       "</table>\n",
       "</div>"
      ],
      "text/plain": [
       "                         BTC     ETH      BTC     ETH     XTZ     BCH    LINK  \\\n",
       "Date                                                                            \n",
       "2019-11-28 10:00:00  7478.58  151.13  7478.58  151.13  1.2437  218.98  2.2359   \n",
       "2019-11-28 11:00:00  7479.54  151.57  7479.54  151.57  1.2737  219.04  2.2518   \n",
       "2019-11-28 12:00:00  7444.12  150.79  7444.12  150.79  1.2605  217.53  2.2173   \n",
       "2019-11-28 13:00:00  7455.67  151.02  7455.67  151.02  1.2597  218.29  2.2101   \n",
       "2019-11-28 14:00:00  7459.51  150.89  7459.51  150.89  1.2660  218.67  2.2335   \n",
       "\n",
       "                       LTC      BNB     EOS     XTZ    LTC   ATOM    BUSD  \\\n",
       "Date                                                                        \n",
       "2019-11-28 10:00:00  47.23  15.8646  2.6608  1.2437  47.23  3.649  0.9998   \n",
       "2019-11-28 11:00:00  47.36  15.8729  2.6716  1.2737  47.36  3.647  0.9996   \n",
       "2019-11-28 12:00:00  46.84  15.6365  2.6448  1.2605  46.84  3.574  0.9997   \n",
       "2019-11-28 13:00:00  46.91  15.6387  2.6490  1.2597  46.91  3.644  0.9996   \n",
       "2019-11-28 14:00:00  47.03  15.7036  2.6518  1.2660  47.03  3.631  0.9998   \n",
       "\n",
       "                       LINK      BNB     BCH      ADA      XRP     EOS  \n",
       "Date                                                                    \n",
       "2019-11-28 10:00:00  2.2359  15.8646  218.98  0.03861  0.22530  2.6608  \n",
       "2019-11-28 11:00:00  2.2518  15.8729  219.04  0.03885  0.22601  2.6716  \n",
       "2019-11-28 12:00:00  2.2173  15.6365  217.53  0.03850  0.22497  2.6448  \n",
       "2019-11-28 13:00:00  2.2101  15.6387  218.29  0.03846  0.22482  2.6490  \n",
       "2019-11-28 14:00:00  2.2335  15.7036  218.67  0.03875  0.22514  2.6518  "
      ]
     },
     "execution_count": 155,
     "metadata": {},
     "output_type": "execute_result"
    }
   ],
   "source": [
    "closes = pd.concat([list_[0]['c'],list_[1]['c'],list_[2]['c'],list_[3]['c'],list_[4]['c'],list_[5]['c'],\n",
    "list_[6]['c'],list_[7]['c'],list_[8]['c'],list_[9]['c'],list_[10]['c'],list_[11]['c'],list_[12]['c'],\n",
    "list_[13]['c'],list_[14]['c'],list_[15]['c'],list_[16]['c'],list_[17]['c'],list_[18]['c'],list_[19]['c']],axis=1)\n",
    "closes.columns = tickers\n",
    "closes.dropna(inplace=True)\n",
    "closes.head()"
   ]
  },
  {
   "cell_type": "markdown",
   "metadata": {},
   "source": [
    "Calculating mean and standart deviation for each currency."
   ]
  },
  {
   "cell_type": "code",
   "execution_count": 157,
   "metadata": {},
   "outputs": [],
   "source": [
    "m = closes.mean(axis=0)\n",
    "s = closes.std(ddof=1, axis=0)"
   ]
  },
  {
   "cell_type": "markdown",
   "metadata": {},
   "source": [
    "Normalizing prices and calculate covariation and correlation matrices for calculating PCA"
   ]
  },
  {
   "cell_type": "code",
   "execution_count": 158,
   "metadata": {},
   "outputs": [],
   "source": [
    "dfPort = (closes - m)/s\n",
    "c = np.cov(dfPort.values.T)     # covariance matrix\n",
    "co = np.corrcoef(closes.values.T)"
   ]
  },
  {
   "cell_type": "code",
   "execution_count": 186,
   "metadata": {},
   "outputs": [
    {
     "data": {
      "text/html": [
       "<div>\n",
       "<style scoped>\n",
       "    .dataframe tbody tr th:only-of-type {\n",
       "        vertical-align: middle;\n",
       "    }\n",
       "\n",
       "    .dataframe tbody tr th {\n",
       "        vertical-align: top;\n",
       "    }\n",
       "\n",
       "    .dataframe thead th {\n",
       "        text-align: right;\n",
       "    }\n",
       "</style>\n",
       "<table border=\"1\" class=\"dataframe\">\n",
       "  <thead>\n",
       "    <tr style=\"text-align: right;\">\n",
       "      <th></th>\n",
       "      <th>BTC</th>\n",
       "      <th>ETH</th>\n",
       "      <th>BTC</th>\n",
       "      <th>ETH</th>\n",
       "      <th>XTZ</th>\n",
       "      <th>BCH</th>\n",
       "      <th>LINK</th>\n",
       "      <th>LTC</th>\n",
       "      <th>BNB</th>\n",
       "      <th>EOS</th>\n",
       "      <th>XTZ</th>\n",
       "      <th>LTC</th>\n",
       "      <th>ATOM</th>\n",
       "      <th>BUSD</th>\n",
       "      <th>LINK</th>\n",
       "      <th>BNB</th>\n",
       "      <th>BCH</th>\n",
       "      <th>ADA</th>\n",
       "      <th>XRP</th>\n",
       "      <th>EOS</th>\n",
       "    </tr>\n",
       "    <tr>\n",
       "      <th>Date</th>\n",
       "      <th></th>\n",
       "      <th></th>\n",
       "      <th></th>\n",
       "      <th></th>\n",
       "      <th></th>\n",
       "      <th></th>\n",
       "      <th></th>\n",
       "      <th></th>\n",
       "      <th></th>\n",
       "      <th></th>\n",
       "      <th></th>\n",
       "      <th></th>\n",
       "      <th></th>\n",
       "      <th></th>\n",
       "      <th></th>\n",
       "      <th></th>\n",
       "      <th></th>\n",
       "      <th></th>\n",
       "      <th></th>\n",
       "      <th></th>\n",
       "    </tr>\n",
       "  </thead>\n",
       "  <tbody>\n",
       "    <tr>\n",
       "      <th>2019-11-28 10:00:00</th>\n",
       "      <td>7478.58</td>\n",
       "      <td>151.13</td>\n",
       "      <td>7478.58</td>\n",
       "      <td>151.13</td>\n",
       "      <td>1.2437</td>\n",
       "      <td>218.98</td>\n",
       "      <td>2.2359</td>\n",
       "      <td>47.23</td>\n",
       "      <td>15.8646</td>\n",
       "      <td>2.6608</td>\n",
       "      <td>1.2437</td>\n",
       "      <td>47.23</td>\n",
       "      <td>3.649</td>\n",
       "      <td>0.9998</td>\n",
       "      <td>2.2359</td>\n",
       "      <td>15.8646</td>\n",
       "      <td>218.98</td>\n",
       "      <td>0.03861</td>\n",
       "      <td>0.22530</td>\n",
       "      <td>2.6608</td>\n",
       "    </tr>\n",
       "    <tr>\n",
       "      <th>2019-11-28 11:00:00</th>\n",
       "      <td>7479.54</td>\n",
       "      <td>151.57</td>\n",
       "      <td>7479.54</td>\n",
       "      <td>151.57</td>\n",
       "      <td>1.2737</td>\n",
       "      <td>219.04</td>\n",
       "      <td>2.2518</td>\n",
       "      <td>47.36</td>\n",
       "      <td>15.8729</td>\n",
       "      <td>2.6716</td>\n",
       "      <td>1.2737</td>\n",
       "      <td>47.36</td>\n",
       "      <td>3.647</td>\n",
       "      <td>0.9996</td>\n",
       "      <td>2.2518</td>\n",
       "      <td>15.8729</td>\n",
       "      <td>219.04</td>\n",
       "      <td>0.03885</td>\n",
       "      <td>0.22601</td>\n",
       "      <td>2.6716</td>\n",
       "    </tr>\n",
       "    <tr>\n",
       "      <th>2019-11-28 12:00:00</th>\n",
       "      <td>7444.12</td>\n",
       "      <td>150.79</td>\n",
       "      <td>7444.12</td>\n",
       "      <td>150.79</td>\n",
       "      <td>1.2605</td>\n",
       "      <td>217.53</td>\n",
       "      <td>2.2173</td>\n",
       "      <td>46.84</td>\n",
       "      <td>15.6365</td>\n",
       "      <td>2.6448</td>\n",
       "      <td>1.2605</td>\n",
       "      <td>46.84</td>\n",
       "      <td>3.574</td>\n",
       "      <td>0.9997</td>\n",
       "      <td>2.2173</td>\n",
       "      <td>15.6365</td>\n",
       "      <td>217.53</td>\n",
       "      <td>0.03850</td>\n",
       "      <td>0.22497</td>\n",
       "      <td>2.6448</td>\n",
       "    </tr>\n",
       "    <tr>\n",
       "      <th>2019-11-28 13:00:00</th>\n",
       "      <td>7455.67</td>\n",
       "      <td>151.02</td>\n",
       "      <td>7455.67</td>\n",
       "      <td>151.02</td>\n",
       "      <td>1.2597</td>\n",
       "      <td>218.29</td>\n",
       "      <td>2.2101</td>\n",
       "      <td>46.91</td>\n",
       "      <td>15.6387</td>\n",
       "      <td>2.6490</td>\n",
       "      <td>1.2597</td>\n",
       "      <td>46.91</td>\n",
       "      <td>3.644</td>\n",
       "      <td>0.9996</td>\n",
       "      <td>2.2101</td>\n",
       "      <td>15.6387</td>\n",
       "      <td>218.29</td>\n",
       "      <td>0.03846</td>\n",
       "      <td>0.22482</td>\n",
       "      <td>2.6490</td>\n",
       "    </tr>\n",
       "    <tr>\n",
       "      <th>2019-11-28 14:00:00</th>\n",
       "      <td>7459.51</td>\n",
       "      <td>150.89</td>\n",
       "      <td>7459.51</td>\n",
       "      <td>150.89</td>\n",
       "      <td>1.2660</td>\n",
       "      <td>218.67</td>\n",
       "      <td>2.2335</td>\n",
       "      <td>47.03</td>\n",
       "      <td>15.7036</td>\n",
       "      <td>2.6518</td>\n",
       "      <td>1.2660</td>\n",
       "      <td>47.03</td>\n",
       "      <td>3.631</td>\n",
       "      <td>0.9998</td>\n",
       "      <td>2.2335</td>\n",
       "      <td>15.7036</td>\n",
       "      <td>218.67</td>\n",
       "      <td>0.03875</td>\n",
       "      <td>0.22514</td>\n",
       "      <td>2.6518</td>\n",
       "    </tr>\n",
       "    <tr>\n",
       "      <th>...</th>\n",
       "      <td>...</td>\n",
       "      <td>...</td>\n",
       "      <td>...</td>\n",
       "      <td>...</td>\n",
       "      <td>...</td>\n",
       "      <td>...</td>\n",
       "      <td>...</td>\n",
       "      <td>...</td>\n",
       "      <td>...</td>\n",
       "      <td>...</td>\n",
       "      <td>...</td>\n",
       "      <td>...</td>\n",
       "      <td>...</td>\n",
       "      <td>...</td>\n",
       "      <td>...</td>\n",
       "      <td>...</td>\n",
       "      <td>...</td>\n",
       "      <td>...</td>\n",
       "      <td>...</td>\n",
       "      <td>...</td>\n",
       "    </tr>\n",
       "    <tr>\n",
       "      <th>2020-04-25 09:00:00</th>\n",
       "      <td>7560.56</td>\n",
       "      <td>194.55</td>\n",
       "      <td>7560.56</td>\n",
       "      <td>194.55</td>\n",
       "      <td>2.7304</td>\n",
       "      <td>241.00</td>\n",
       "      <td>3.8176</td>\n",
       "      <td>44.96</td>\n",
       "      <td>16.1841</td>\n",
       "      <td>2.7254</td>\n",
       "      <td>2.7304</td>\n",
       "      <td>44.96</td>\n",
       "      <td>2.854</td>\n",
       "      <td>0.9995</td>\n",
       "      <td>3.8176</td>\n",
       "      <td>16.1841</td>\n",
       "      <td>241.00</td>\n",
       "      <td>0.04302</td>\n",
       "      <td>0.19538</td>\n",
       "      <td>2.7254</td>\n",
       "    </tr>\n",
       "    <tr>\n",
       "      <th>2020-04-25 10:00:00</th>\n",
       "      <td>7563.37</td>\n",
       "      <td>194.63</td>\n",
       "      <td>7563.37</td>\n",
       "      <td>194.63</td>\n",
       "      <td>2.7412</td>\n",
       "      <td>241.26</td>\n",
       "      <td>3.8236</td>\n",
       "      <td>45.29</td>\n",
       "      <td>16.2254</td>\n",
       "      <td>2.7303</td>\n",
       "      <td>2.7412</td>\n",
       "      <td>45.29</td>\n",
       "      <td>2.871</td>\n",
       "      <td>0.9994</td>\n",
       "      <td>3.8236</td>\n",
       "      <td>16.2254</td>\n",
       "      <td>241.26</td>\n",
       "      <td>0.04308</td>\n",
       "      <td>0.19549</td>\n",
       "      <td>2.7303</td>\n",
       "    </tr>\n",
       "    <tr>\n",
       "      <th>2020-04-25 11:00:00</th>\n",
       "      <td>7532.97</td>\n",
       "      <td>193.53</td>\n",
       "      <td>7532.97</td>\n",
       "      <td>193.53</td>\n",
       "      <td>2.7186</td>\n",
       "      <td>239.49</td>\n",
       "      <td>3.8014</td>\n",
       "      <td>44.61</td>\n",
       "      <td>16.1659</td>\n",
       "      <td>2.7141</td>\n",
       "      <td>2.7186</td>\n",
       "      <td>44.61</td>\n",
       "      <td>2.839</td>\n",
       "      <td>0.9992</td>\n",
       "      <td>3.8014</td>\n",
       "      <td>16.1659</td>\n",
       "      <td>239.49</td>\n",
       "      <td>0.04272</td>\n",
       "      <td>0.19453</td>\n",
       "      <td>2.7141</td>\n",
       "    </tr>\n",
       "    <tr>\n",
       "      <th>2020-04-25 12:00:00</th>\n",
       "      <td>7551.56</td>\n",
       "      <td>194.20</td>\n",
       "      <td>7551.56</td>\n",
       "      <td>194.20</td>\n",
       "      <td>2.7444</td>\n",
       "      <td>240.20</td>\n",
       "      <td>3.8155</td>\n",
       "      <td>44.77</td>\n",
       "      <td>16.2082</td>\n",
       "      <td>2.7226</td>\n",
       "      <td>2.7444</td>\n",
       "      <td>44.77</td>\n",
       "      <td>2.866</td>\n",
       "      <td>0.9992</td>\n",
       "      <td>3.8155</td>\n",
       "      <td>16.2082</td>\n",
       "      <td>240.20</td>\n",
       "      <td>0.04298</td>\n",
       "      <td>0.19511</td>\n",
       "      <td>2.7226</td>\n",
       "    </tr>\n",
       "    <tr>\n",
       "      <th>2020-04-25 13:00:00</th>\n",
       "      <td>7563.68</td>\n",
       "      <td>194.94</td>\n",
       "      <td>7564.19</td>\n",
       "      <td>194.74</td>\n",
       "      <td>2.7420</td>\n",
       "      <td>241.34</td>\n",
       "      <td>3.8124</td>\n",
       "      <td>44.83</td>\n",
       "      <td>16.2099</td>\n",
       "      <td>2.7296</td>\n",
       "      <td>2.7411</td>\n",
       "      <td>44.85</td>\n",
       "      <td>2.872</td>\n",
       "      <td>0.9993</td>\n",
       "      <td>3.8129</td>\n",
       "      <td>16.2156</td>\n",
       "      <td>241.64</td>\n",
       "      <td>0.04310</td>\n",
       "      <td>0.19552</td>\n",
       "      <td>2.7290</td>\n",
       "    </tr>\n",
       "  </tbody>\n",
       "</table>\n",
       "<p>3571 rows × 20 columns</p>\n",
       "</div>"
      ],
      "text/plain": [
       "                         BTC     ETH      BTC     ETH     XTZ     BCH    LINK  \\\n",
       "Date                                                                            \n",
       "2019-11-28 10:00:00  7478.58  151.13  7478.58  151.13  1.2437  218.98  2.2359   \n",
       "2019-11-28 11:00:00  7479.54  151.57  7479.54  151.57  1.2737  219.04  2.2518   \n",
       "2019-11-28 12:00:00  7444.12  150.79  7444.12  150.79  1.2605  217.53  2.2173   \n",
       "2019-11-28 13:00:00  7455.67  151.02  7455.67  151.02  1.2597  218.29  2.2101   \n",
       "2019-11-28 14:00:00  7459.51  150.89  7459.51  150.89  1.2660  218.67  2.2335   \n",
       "...                      ...     ...      ...     ...     ...     ...     ...   \n",
       "2020-04-25 09:00:00  7560.56  194.55  7560.56  194.55  2.7304  241.00  3.8176   \n",
       "2020-04-25 10:00:00  7563.37  194.63  7563.37  194.63  2.7412  241.26  3.8236   \n",
       "2020-04-25 11:00:00  7532.97  193.53  7532.97  193.53  2.7186  239.49  3.8014   \n",
       "2020-04-25 12:00:00  7551.56  194.20  7551.56  194.20  2.7444  240.20  3.8155   \n",
       "2020-04-25 13:00:00  7563.68  194.94  7564.19  194.74  2.7420  241.34  3.8124   \n",
       "\n",
       "                       LTC      BNB     EOS     XTZ    LTC   ATOM    BUSD  \\\n",
       "Date                                                                        \n",
       "2019-11-28 10:00:00  47.23  15.8646  2.6608  1.2437  47.23  3.649  0.9998   \n",
       "2019-11-28 11:00:00  47.36  15.8729  2.6716  1.2737  47.36  3.647  0.9996   \n",
       "2019-11-28 12:00:00  46.84  15.6365  2.6448  1.2605  46.84  3.574  0.9997   \n",
       "2019-11-28 13:00:00  46.91  15.6387  2.6490  1.2597  46.91  3.644  0.9996   \n",
       "2019-11-28 14:00:00  47.03  15.7036  2.6518  1.2660  47.03  3.631  0.9998   \n",
       "...                    ...      ...     ...     ...    ...    ...     ...   \n",
       "2020-04-25 09:00:00  44.96  16.1841  2.7254  2.7304  44.96  2.854  0.9995   \n",
       "2020-04-25 10:00:00  45.29  16.2254  2.7303  2.7412  45.29  2.871  0.9994   \n",
       "2020-04-25 11:00:00  44.61  16.1659  2.7141  2.7186  44.61  2.839  0.9992   \n",
       "2020-04-25 12:00:00  44.77  16.2082  2.7226  2.7444  44.77  2.866  0.9992   \n",
       "2020-04-25 13:00:00  44.83  16.2099  2.7296  2.7411  44.85  2.872  0.9993   \n",
       "\n",
       "                       LINK      BNB     BCH      ADA      XRP     EOS  \n",
       "Date                                                                    \n",
       "2019-11-28 10:00:00  2.2359  15.8646  218.98  0.03861  0.22530  2.6608  \n",
       "2019-11-28 11:00:00  2.2518  15.8729  219.04  0.03885  0.22601  2.6716  \n",
       "2019-11-28 12:00:00  2.2173  15.6365  217.53  0.03850  0.22497  2.6448  \n",
       "2019-11-28 13:00:00  2.2101  15.6387  218.29  0.03846  0.22482  2.6490  \n",
       "2019-11-28 14:00:00  2.2335  15.7036  218.67  0.03875  0.22514  2.6518  \n",
       "...                     ...      ...     ...      ...      ...     ...  \n",
       "2020-04-25 09:00:00  3.8176  16.1841  241.00  0.04302  0.19538  2.7254  \n",
       "2020-04-25 10:00:00  3.8236  16.2254  241.26  0.04308  0.19549  2.7303  \n",
       "2020-04-25 11:00:00  3.8014  16.1659  239.49  0.04272  0.19453  2.7141  \n",
       "2020-04-25 12:00:00  3.8155  16.2082  240.20  0.04298  0.19511  2.7226  \n",
       "2020-04-25 13:00:00  3.8129  16.2156  241.64  0.04310  0.19552  2.7290  \n",
       "\n",
       "[3571 rows x 20 columns]"
      ]
     },
     "execution_count": 186,
     "metadata": {},
     "output_type": "execute_result"
    }
   ],
   "source": [
    "closes"
   ]
  },
  {
   "cell_type": "code",
   "execution_count": 187,
   "metadata": {},
   "outputs": [
    {
     "data": {
      "text/plain": [
       "<matplotlib.axes._subplots.AxesSubplot at 0x15462034b08>"
      ]
     },
     "execution_count": 187,
     "metadata": {},
     "output_type": "execute_result"
    },
    {
     "data": {
      "image/png": "[encoded data removed]",
      "text/plain": [
       "<Figure size 576x576 with 2 Axes>"
      ]
     },
     "metadata": {
      "needs_background": "light"
     },
     "output_type": "display_data"
    }
   ],
   "source": [
    "plt.figure(figsize=(8,8))\n",
    "plt.title('Correlation Matrix')\n",
    "sns.heatmap(closes.corr())"
   ]
  },
  {
   "cell_type": "markdown",
   "metadata": {},
   "source": [
    "**PCA analysis for High Correlated pairs**"
   ]
  },
  {
   "cell_type": "code",
   "execution_count": 160,
   "metadata": {},
   "outputs": [
    {
     "data": {
      "text/plain": [
       "Text(0, 0.5, 'PC-19')"
      ]
     },
     "execution_count": 160,
     "metadata": {},
     "output_type": "execute_result"
    },
    {
     "data": {
      "image/png": "[encoded data removed]",
      "text/plain": [
       "<Figure size 576x576 with 2 Axes>"
      ]
     },
     "metadata": {
      "needs_background": "light"
     },
     "output_type": "display_data"
    },
    {
     "data": {
      "image/png": "[encoded data removed]",
      "text/plain": [
       "<Figure size 504x504 with 1 Axes>"
      ]
     },
     "metadata": {
      "needs_background": "light"
     },
     "output_type": "display_data"
    }
   ],
   "source": [
    "# perform PCA\n",
    "w, v = np.linalg.eig(c)  \n",
    " \n",
    "ax = plt.figure(figsize=(8,8)).gca()\n",
    "plt.imshow(v, cmap=\"bwr\", interpolation=\"nearest\")\n",
    "cb = plt.colorbar()\n",
    "plt.yticks(np.arange(len(tickers)), tickers)\n",
    "plt.xlabel(\"PC Number\")\n",
    "plt.title(\"PCA\", fontsize=14)\n",
    "# force x-tickers to be displayed as integers (not floats)\n",
    "ax.xaxis.set_major_locator(MaxNLocator(integer=True))\n",
    "\n",
    "\n",
    "# choose PC-k numbers\n",
    "k1 = -1  # the last PC column in 'v' PCA matrix\n",
    "k2 = -2  # the second last PC column\n",
    " \n",
    "# begin constructing bi-plot for PC(k1) and PC(k2)\n",
    "# loadings\n",
    "plt.figure(figsize=(7,7))\n",
    "plt.grid()\n",
    " \n",
    "# compute the distance from (0,0) point\n",
    "dist = []\n",
    "for i in range(v.shape[0]):\n",
    "    x = v[i,k1]\n",
    "    y = v[i,k2]\n",
    "    plt.plot(x, y, '.k')\n",
    "    plt.plot([0,x], [0,y], '-', color='grey')\n",
    "    d = np.sqrt(x**2 + y**2)\n",
    "    dist.append(d)\n",
    "    \n",
    "quar = []\n",
    "for i in range(v.shape[0]):\n",
    "    x = v[i,k1]\n",
    "    y = v[i,k2]\n",
    "    d = np.sqrt(x**2 + y**2)\n",
    "    if(d > np.mean(dist) + np.std(dist, ddof=1)):\n",
    "        plt.plot(x, y, '.r', markersize=10)\n",
    "        plt.plot([0,x], [0,y], '-', color='grey')\n",
    "        if((x > 0) and (y > 0)):\n",
    "            quar.append((i, 1))\n",
    "        elif((x < 0) and (y > 0)):\n",
    "            quar.append((i, 2))\n",
    "        elif((x < 0) and (y < 0)):\n",
    "            quar.append((i, 3))\n",
    "        elif((x > 0) and (y < 0)):\n",
    "            quar.append((i, 4))\n",
    "        plt.text(x, y, tickers[i], color='k')\n",
    " \n",
    "plt.xlabel(\"PC-\" + str(len(tickers)+k1+1))\n",
    "plt.ylabel(\"PC-\" + str(len(tickers)+k2+1))\n",
    "\n",
    "\n"
   ]
  },
  {
   "cell_type": "code",
   "execution_count": 209,
   "metadata": {},
   "outputs": [
    {
     "name": "stdout",
     "output_type": "stream",
     "text": [
      "BCH BCH\n",
      "R^2:  0.9999999981755077 , p-value:  0.0\n",
      "k-tau:  0.9999987448501596 , k-value:  0.0\n",
      "Slope:  0.9999995889680398\n"
     ]
    },
    {
     "data": {
      "image/png": "[encoded data removed]",
      "text/plain": [
       "<Figure size 504x288 with 1 Axes>"
      ]
     },
     "metadata": {
      "needs_background": "light"
     },
     "output_type": "display_data"
    },
    {
     "name": "stdout",
     "output_type": "stream",
     "text": [
      "BCH EOS\n",
      "R^2:  0.977472226067437 , p-value:  0.0\n",
      "k-tau:  0.7558789673029045 , k-value:  0.0\n",
      "Slope:  0.009904354212793514\n"
     ]
    },
    {
     "data": {
      "image/png": "[encoded data removed]",
      "text/plain": [
       "<Figure size 504x288 with 1 Axes>"
      ]
     },
     "metadata": {
      "needs_background": "light"
     },
     "output_type": "display_data"
    },
    {
     "name": "stdout",
     "output_type": "stream",
     "text": [
      "EOS BCH\n",
      "R^2:  0.9774721874714004 , p-value:  0.0\n",
      "k-tau:  0.7558794972767758 , k-value:  0.0\n",
      "Slope:  96.46783496556814\n"
     ]
    },
    {
     "data": {
      "image/png": "[encoded data removed]",
      "text/plain": [
       "<Figure size 504x288 with 1 Axes>"
      ]
     },
     "metadata": {
      "needs_background": "light"
     },
     "output_type": "display_data"
    },
    {
     "name": "stdout",
     "output_type": "stream",
     "text": [
      "EOS EOS\n",
      "R^2:  0.9999999999289187 , p-value:  0.0\n",
      "k-tau:  0.9999992939870238 , k-value:  0.0\n",
      "Slope:  1.000000087439038\n"
     ]
    },
    {
     "data": {
      "image/png": "[encoded data removed]",
      "text/plain": [
       "<Figure size 504x288 with 1 Axes>"
      ]
     },
     "metadata": {
      "needs_background": "light"
     },
     "output_type": "display_data"
    }
   ],
   "source": [
    "for i in range(len(quar)):\n",
    "    # Q1 vs Q3\n",
    "    if(quar[i][1] == 1):\n",
    "        for j in range(len(quar)):\n",
    "            if(quar[j][1] == 3):\n",
    "                plt.figure(figsize=(7,4))\n",
    "                \n",
    "                # highly correlated coins according to the PC analysis\n",
    "                print(tickers[quar[i][0]], tickers[quar[j][0]])\n",
    "                \n",
    "                ts1 = closes.iloc[:,quar[i][0]]  # time-series\n",
    "                ts2 = closes.iloc[:,quar[j][0]]\n",
    "                \n",
    "                # correlation metrics and their p_values\n",
    "                slope, intercept, r2, pvalue, _ = stats.linregress(ts1, ts2)\n",
    "                ktau, kpvalue = stats.kendalltau(ts1, ts2)\n",
    "                print('R^2: ',r2, ', p-value: ',pvalue)\n",
    "                print('k-tau: ', ktau, ', k-value: ',kpvalue)\n",
    "                print('Slope: ', slope)\n",
    "                \n",
    "                plt.plot(ts1, ts2, '.k')\n",
    "                xline = np.linspace(np.min(ts1), np.max(ts1), 100)\n",
    "                yline = slope*xline + intercept\n",
    "                plt.plot(xline, yline,'--', color='b')  # linear model fit\n",
    "                plt.xlabel(tickers[quar[i][0]])\n",
    "                plt.ylabel(tickers[quar[j][0]])\n",
    "                plt.show()\n",
    "    # Q2 vs Q4\n",
    "    if(quar[i][1] == 2):\n",
    "        for j in range(len(quar)):\n",
    "            if(quar[j][1] == 4):\n",
    "                plt.figure(figsize=(7,4))\n",
    "                print(tickers[quar[i][0]], tickers[quar[j][0]])\n",
    "                ts1 = closes.iloc[:,quar[i][0]]\n",
    "                ts2 = closes.iloc[:,quar[j][0]]\n",
    "                slope, intercept, r2, pvalue, _ = stats.linregress(ts1, ts2)\n",
    "                ktau, kpvalue = stats.kendalltau(ts1, ts2)\n",
    "                print(r2, pvalue)\n",
    "                print(ktau, kpvalue)\n",
    "                plt.plot(ts1, ts2, '.k')\n",
    "                xline = np.linspace(np.min(ts1), np.max(ts1), 100)\n",
    "                yline = slope*xline + intercept\n",
    "                plt.plot(xline, yline,'--', color='b')\n",
    "                plt.xlabel(tickers[quar[i][0]])\n",
    "                plt.ylabel(tickers[quar[j][0]])\n",
    "                plt.show()"
   ]
  },
  {
   "cell_type": "markdown",
   "metadata": {},
   "source": [
    "At the end we get EOS/USDT and BCH/USDT as most high correlated pair. Next step, we backtest simple pair-trading strategy, based on this finding. "
   ]
  },
  {
   "cell_type": "code",
   "execution_count": 198,
   "metadata": {},
   "outputs": [],
   "source": [
    "df1 =  download_first_exchange(str('binance'), 'EOS/USDT', '1h', '2017-09-01 00:00:00')\n",
    "df1.index = pd.to_datetime(df1.index,format='%Y-%m-%d %H:%M:%S')\n",
    "df1 = df1[~df1.index.duplicated(keep='first')]\n",
    "df1.columns = map(str.lower, df1.columns)\n",
    "\n",
    "df2 =  download_first_exchange(str('binance'), 'BCH/USDT', '1h', '2017-09-01 00:00:00')\n",
    "df2.index = pd.to_datetime(df2.index,format='%Y-%m-%d %H:%M:%S')\n",
    "df2 = df2[~df2.index.duplicated(keep='first')]\n",
    "df2.columns = map(str.lower, df2.columns)\n"
   ]
  },
  {
   "cell_type": "code",
   "execution_count": 199,
   "metadata": {},
   "outputs": [
    {
     "data": {
      "text/html": [
       "<div>\n",
       "<style scoped>\n",
       "    .dataframe tbody tr th:only-of-type {\n",
       "        vertical-align: middle;\n",
       "    }\n",
       "\n",
       "    .dataframe tbody tr th {\n",
       "        vertical-align: top;\n",
       "    }\n",
       "\n",
       "    .dataframe thead th {\n",
       "        text-align: right;\n",
       "    }\n",
       "</style>\n",
       "<table border=\"1\" class=\"dataframe\">\n",
       "  <thead>\n",
       "    <tr style=\"text-align: right;\">\n",
       "      <th></th>\n",
       "      <th>open</th>\n",
       "      <th>high</th>\n",
       "      <th>low</th>\n",
       "      <th>close</th>\n",
       "      <th>volume</th>\n",
       "    </tr>\n",
       "    <tr>\n",
       "      <th>Date</th>\n",
       "      <th></th>\n",
       "      <th></th>\n",
       "      <th></th>\n",
       "      <th></th>\n",
       "      <th></th>\n",
       "    </tr>\n",
       "  </thead>\n",
       "  <tbody>\n",
       "    <tr>\n",
       "      <th>2018-05-28 05:00:00</th>\n",
       "      <td>12.4900</td>\n",
       "      <td>12.6500</td>\n",
       "      <td>11.3000</td>\n",
       "      <td>11.8175</td>\n",
       "      <td>155893.82</td>\n",
       "    </tr>\n",
       "    <tr>\n",
       "      <th>2018-05-28 06:00:00</th>\n",
       "      <td>11.8916</td>\n",
       "      <td>12.1012</td>\n",
       "      <td>11.7100</td>\n",
       "      <td>11.9997</td>\n",
       "      <td>88087.08</td>\n",
       "    </tr>\n",
       "    <tr>\n",
       "      <th>2018-05-28 07:00:00</th>\n",
       "      <td>12.0100</td>\n",
       "      <td>12.3200</td>\n",
       "      <td>11.8783</td>\n",
       "      <td>11.9368</td>\n",
       "      <td>106634.92</td>\n",
       "    </tr>\n",
       "    <tr>\n",
       "      <th>2018-05-28 08:00:00</th>\n",
       "      <td>11.9393</td>\n",
       "      <td>12.0500</td>\n",
       "      <td>11.7110</td>\n",
       "      <td>11.8614</td>\n",
       "      <td>147571.11</td>\n",
       "    </tr>\n",
       "    <tr>\n",
       "      <th>2018-05-28 09:00:00</th>\n",
       "      <td>11.8796</td>\n",
       "      <td>11.9996</td>\n",
       "      <td>11.7842</td>\n",
       "      <td>11.8261</td>\n",
       "      <td>145249.59</td>\n",
       "    </tr>\n",
       "  </tbody>\n",
       "</table>\n",
       "</div>"
      ],
      "text/plain": [
       "                        open     high      low    close     volume\n",
       "Date                                                              \n",
       "2018-05-28 05:00:00  12.4900  12.6500  11.3000  11.8175  155893.82\n",
       "2018-05-28 06:00:00  11.8916  12.1012  11.7100  11.9997   88087.08\n",
       "2018-05-28 07:00:00  12.0100  12.3200  11.8783  11.9368  106634.92\n",
       "2018-05-28 08:00:00  11.9393  12.0500  11.7110  11.8614  147571.11\n",
       "2018-05-28 09:00:00  11.8796  11.9996  11.7842  11.8261  145249.59"
      ]
     },
     "execution_count": 199,
     "metadata": {},
     "output_type": "execute_result"
    }
   ],
   "source": [
    "df1.head()"
   ]
  },
  {
   "cell_type": "code",
   "execution_count": 200,
   "metadata": {},
   "outputs": [
    {
     "data": {
      "text/html": [
       "<div>\n",
       "<style scoped>\n",
       "    .dataframe tbody tr th:only-of-type {\n",
       "        vertical-align: middle;\n",
       "    }\n",
       "\n",
       "    .dataframe tbody tr th {\n",
       "        vertical-align: top;\n",
       "    }\n",
       "\n",
       "    .dataframe thead th {\n",
       "        text-align: right;\n",
       "    }\n",
       "</style>\n",
       "<table border=\"1\" class=\"dataframe\">\n",
       "  <thead>\n",
       "    <tr style=\"text-align: right;\">\n",
       "      <th></th>\n",
       "      <th>open</th>\n",
       "      <th>high</th>\n",
       "      <th>low</th>\n",
       "      <th>close</th>\n",
       "      <th>volume</th>\n",
       "    </tr>\n",
       "    <tr>\n",
       "      <th>Date</th>\n",
       "      <th></th>\n",
       "      <th></th>\n",
       "      <th></th>\n",
       "      <th></th>\n",
       "      <th></th>\n",
       "    </tr>\n",
       "  </thead>\n",
       "  <tbody>\n",
       "    <tr>\n",
       "      <th>2019-11-28 10:00:00</th>\n",
       "      <td>220.08</td>\n",
       "      <td>224.60</td>\n",
       "      <td>212.02</td>\n",
       "      <td>218.98</td>\n",
       "      <td>1329.50718</td>\n",
       "    </tr>\n",
       "    <tr>\n",
       "      <th>2019-11-28 11:00:00</th>\n",
       "      <td>218.98</td>\n",
       "      <td>219.40</td>\n",
       "      <td>218.12</td>\n",
       "      <td>219.04</td>\n",
       "      <td>511.87305</td>\n",
       "    </tr>\n",
       "    <tr>\n",
       "      <th>2019-11-28 12:00:00</th>\n",
       "      <td>219.04</td>\n",
       "      <td>219.05</td>\n",
       "      <td>216.57</td>\n",
       "      <td>217.53</td>\n",
       "      <td>781.62961</td>\n",
       "    </tr>\n",
       "    <tr>\n",
       "      <th>2019-11-28 13:00:00</th>\n",
       "      <td>217.55</td>\n",
       "      <td>218.78</td>\n",
       "      <td>217.54</td>\n",
       "      <td>218.29</td>\n",
       "      <td>461.33172</td>\n",
       "    </tr>\n",
       "    <tr>\n",
       "      <th>2019-11-28 14:00:00</th>\n",
       "      <td>218.00</td>\n",
       "      <td>219.00</td>\n",
       "      <td>217.45</td>\n",
       "      <td>218.67</td>\n",
       "      <td>600.06810</td>\n",
       "    </tr>\n",
       "  </tbody>\n",
       "</table>\n",
       "</div>"
      ],
      "text/plain": [
       "                       open    high     low   close      volume\n",
       "Date                                                           \n",
       "2019-11-28 10:00:00  220.08  224.60  212.02  218.98  1329.50718\n",
       "2019-11-28 11:00:00  218.98  219.40  218.12  219.04   511.87305\n",
       "2019-11-28 12:00:00  219.04  219.05  216.57  217.53   781.62961\n",
       "2019-11-28 13:00:00  217.55  218.78  217.54  218.29   461.33172\n",
       "2019-11-28 14:00:00  218.00  219.00  217.45  218.67   600.06810"
      ]
     },
     "execution_count": 200,
     "metadata": {},
     "output_type": "execute_result"
    }
   ],
   "source": [
    "df2.head()"
   ]
  },
  {
   "cell_type": "code",
   "execution_count": 201,
   "metadata": {},
   "outputs": [
    {
     "name": "stdout",
     "output_type": "stream",
     "text": [
      "16697 3572\n"
     ]
    }
   ],
   "source": [
    "print(df1.close.shape[0], df2.close.shape[0])  # both sizes must be equal"
   ]
  },
  {
   "cell_type": "code",
   "execution_count": 202,
   "metadata": {},
   "outputs": [],
   "source": [
    "def start_date(cur1,cur2):\n",
    "    if cur1.index[0] <= cur2.index[0]:\n",
    "        start = cur2.index[0]\n",
    "    else:\n",
    "        start = cur1.index[0]\n",
    "    if cur1.index[-1] <= cur2.index[-1]:\n",
    "        end = cur1.index[-1]\n",
    "    else:\n",
    "        end =cur1.index[-1]\n",
    "    return start, end"
   ]
  },
  {
   "cell_type": "code",
   "execution_count": 203,
   "metadata": {},
   "outputs": [],
   "source": [
    "start,end = start_date(df1,df2)"
   ]
  },
  {
   "cell_type": "code",
   "execution_count": 204,
   "metadata": {},
   "outputs": [
    {
     "name": "stdout",
     "output_type": "stream",
     "text": [
      "Starting TimeDate:  2019-11-28 10:00:00 Ending TimeDate:  2020-04-25 14:00:00\n"
     ]
    }
   ],
   "source": [
    "print('Starting TimeDate: ', start,'Ending TimeDate: ', end)"
   ]
  },
  {
   "cell_type": "code",
   "execution_count": 321,
   "metadata": {},
   "outputs": [
    {
     "data": {
      "text/plain": [
       "Text(0.5, 0, 'Date')"
      ]
     },
     "execution_count": 321,
     "metadata": {},
     "output_type": "execute_result"
    },
    {
     "data": {
      "image/png": "[encoded data removed]",
      "text/plain": [
       "<Figure size 576x576 with 1 Axes>"
      ]
     },
     "metadata": {
      "needs_background": "light"
     },
     "output_type": "display_data"
    }
   ],
   "source": [
    "df1 = df1[(df1.index >= \"{}\".format(start)) & (df1.index <= \"{}\".format(end))]\n",
    "df2 = df2[(df2.index >= \"{}\".format(start)) & (df2.index <= \"{}\".format(end))]\n",
    " \n",
    " \n",
    "# plotting\n",
    "plt.figure(figsize=(8,8))\n",
    "plt.plot(df1.close, label='EOS')\n",
    "plt.plot(df2.close, label='BCH')\n",
    "plt.legend(loc=2)\n",
    "plt.title('EOS vs BCH', fontsize=12)\n",
    "plt.ylabel('Price in USDT', fontsize=12)\n",
    "plt.xlabel('Date', fontsize=12)\n",
    "\n"
   ]
  },
  {
   "cell_type": "code",
   "execution_count": 336,
   "metadata": {},
   "outputs": [
    {
     "data": {
      "text/plain": [
       "<matplotlib.axes._subplots.AxesSubplot at 0x154062d1d88>"
      ]
     },
     "execution_count": 336,
     "metadata": {},
     "output_type": "execute_result"
    },
    {
     "data": {
      "image/png": "[encoded data removed]",
      "text/plain": [
       "<Figure size 432x288 with 1 Axes>"
      ]
     },
     "metadata": {
      "needs_background": "light"
     },
     "output_type": "display_data"
    }
   ],
   "source": [
    "data = pd.concat([df1.close, df2.close],axis=1)\n",
    "data.columns = ['EOS','BCH']\n",
    "data['spread'] = np.log(data.BCH) - 0.009904354212793514*np.log(data.EOS)\n",
    "data['z_score'] = (data['spread'] -data['spread'].rolling(15).mean())/data['spread'].rolling(15).std()\n",
    "data.z_score.plot()"
   ]
  },
  {
   "cell_type": "code",
   "execution_count": 343,
   "metadata": {},
   "outputs": [],
   "source": [
    "data['signal'] = np.where(data.z_score>2,1,0)\n",
    "data['signal'] = np.where(data.z_score<-2,-1,data['signal'])\n",
    "data['signal'] = np.where(data.z_score==0,0,data['signal'])\n"
   ]
  },
  {
   "cell_type": "code",
   "execution_count": 344,
   "metadata": {},
   "outputs": [
    {
     "data": {
      "text/plain": [
       "<matplotlib.legend.Legend at 0x15406394c48>"
      ]
     },
     "execution_count": 344,
     "metadata": {},
     "output_type": "execute_result"
    },
    {
     "data": {
      "image/png": "[encoded data removed]",
      "text/plain": [
       "<Figure size 432x288 with 1 Axes>"
      ]
     },
     "metadata": {
      "needs_background": "light"
     },
     "output_type": "display_data"
    }
   ],
   "source": [
    "plt.plot(data.spread, label='Spread')\n",
    "plt.plot(data.spread.loc[data.signal == 1], 's', color = 'green', marker = 'o' ,label='buy')\n",
    "plt.plot(data.spread.loc[data.signal == -1], 's', color = 'red', marker = 'o' ,label='sell')\n",
    "plt.legend()"
   ]
  },
  {
   "cell_type": "code",
   "execution_count": 327,
   "metadata": {},
   "outputs": [],
   "source": [
    "data.dropna(inplace=True)"
   ]
  },
  {
   "cell_type": "code",
   "execution_count": 342,
   "metadata": {},
   "outputs": [
    {
     "data": {
      "text/html": [
       "<div>\n",
       "<style scoped>\n",
       "    .dataframe tbody tr th:only-of-type {\n",
       "        vertical-align: middle;\n",
       "    }\n",
       "\n",
       "    .dataframe tbody tr th {\n",
       "        vertical-align: top;\n",
       "    }\n",
       "\n",
       "    .dataframe thead th {\n",
       "        text-align: right;\n",
       "    }\n",
       "</style>\n",
       "<table border=\"1\" class=\"dataframe\">\n",
       "  <thead>\n",
       "    <tr style=\"text-align: right;\">\n",
       "      <th></th>\n",
       "      <th>EOS</th>\n",
       "      <th>BCH</th>\n",
       "      <th>spread</th>\n",
       "      <th>z_score</th>\n",
       "    </tr>\n",
       "    <tr>\n",
       "      <th>Date</th>\n",
       "      <th></th>\n",
       "      <th></th>\n",
       "      <th></th>\n",
       "      <th></th>\n",
       "    </tr>\n",
       "  </thead>\n",
       "  <tbody>\n",
       "    <tr>\n",
       "      <th>2019-11-28 10:00:00</th>\n",
       "      <td>2.6608</td>\n",
       "      <td>218.98</td>\n",
       "      <td>5.379288</td>\n",
       "      <td>NaN</td>\n",
       "    </tr>\n",
       "    <tr>\n",
       "      <th>2019-11-28 11:00:00</th>\n",
       "      <td>2.6716</td>\n",
       "      <td>219.04</td>\n",
       "      <td>5.379522</td>\n",
       "      <td>NaN</td>\n",
       "    </tr>\n",
       "    <tr>\n",
       "      <th>2019-11-28 12:00:00</th>\n",
       "      <td>2.6448</td>\n",
       "      <td>217.53</td>\n",
       "      <td>5.372704</td>\n",
       "      <td>NaN</td>\n",
       "    </tr>\n",
       "    <tr>\n",
       "      <th>2019-11-28 13:00:00</th>\n",
       "      <td>2.6490</td>\n",
       "      <td>218.29</td>\n",
       "      <td>5.376176</td>\n",
       "      <td>NaN</td>\n",
       "    </tr>\n",
       "    <tr>\n",
       "      <th>2019-11-28 14:00:00</th>\n",
       "      <td>2.6518</td>\n",
       "      <td>218.67</td>\n",
       "      <td>5.377905</td>\n",
       "      <td>NaN</td>\n",
       "    </tr>\n",
       "  </tbody>\n",
       "</table>\n",
       "</div>"
      ],
      "text/plain": [
       "                        EOS     BCH    spread  z_score\n",
       "Date                                                  \n",
       "2019-11-28 10:00:00  2.6608  218.98  5.379288      NaN\n",
       "2019-11-28 11:00:00  2.6716  219.04  5.379522      NaN\n",
       "2019-11-28 12:00:00  2.6448  217.53  5.372704      NaN\n",
       "2019-11-28 13:00:00  2.6490  218.29  5.376176      NaN\n",
       "2019-11-28 14:00:00  2.6518  218.67  5.377905      NaN"
      ]
     },
     "execution_count": 342,
     "metadata": {},
     "output_type": "execute_result"
    }
   ],
   "source": [
    "data.head()"
   ]
  },
  {
   "cell_type": "code",
   "execution_count": 334,
   "metadata": {},
   "outputs": [
    {
     "data": {
      "text/plain": [
       "Date\n",
       "2019-11-29 00:00:00   -0.437382\n",
       "2019-11-29 01:00:00   -0.492260\n",
       "2019-11-29 02:00:00   -0.486245\n",
       "2019-11-29 03:00:00    0.822438\n",
       "2019-11-29 04:00:00    0.420667\n",
       "                         ...   \n",
       "2020-04-25 10:00:00    1.091320\n",
       "2020-04-25 11:00:00    0.156890\n",
       "2020-04-25 12:00:00    0.469116\n",
       "2020-04-25 13:00:00    1.780183\n",
       "2020-04-25 14:00:00    1.041744\n",
       "Name: z_score, Length: 3558, dtype: float64"
      ]
     },
     "execution_count": 334,
     "metadata": {},
     "output_type": "execute_result"
    }
   ],
   "source": [
    "data.z_score"
   ]
  },
  {
   "cell_type": "code",
   "execution_count": 478,
   "metadata": {},
   "outputs": [],
   "source": [
    "def trade(data, upper,lower,cl_lvl1,cl_lvl2):\n",
    "    data['signal'] = np.where(data.z_score>upper,1,0)\n",
    "    data['signal'] = np.where(data.z_score<lower,-1,data['signal'])\n",
    "    #data['signal'] = np.where(data.z_score==0,0,data['signal'])\n",
    "    investment = 10000  # USD\n",
    "    account = investment\n",
    "    roi = []\n",
    "    money = []\n",
    "    opened_orders =[]\n",
    "    closed_orders =[]\n",
    "    open_trades=False\n",
    "    trade = False\n",
    "    #n = len(data)  # number of data points\n",
    "    for i in range(len(data)):\n",
    "        p1=data.BCH.iloc[i]\n",
    "        p2=data.EOS.iloc[i]\n",
    "        if(open_trades==False):\n",
    "            if(data.signal.iloc[i] ==1):\n",
    "                asset1=\"LONG\"\n",
    "                asset2=\"SHORT\"\n",
    "                pos1=p1\n",
    "                pos2=-96*p2\n",
    "                trade=True\n",
    "                #print(\"New BUY Trade Open\")\n",
    "                opened_orders.append([data.index[i],p1,p2,asset1,asset2,pos1,pos2])\n",
    "                open_trades=True\n",
    "            elif(data.signal.iloc[i] ==-1):\n",
    "                asset1=\"SHORT\"\n",
    "                asset2=\"LONG\"\n",
    "                pos1=-p1\n",
    "                pos2=96*p2\n",
    "                trade=True\n",
    "                #print(\"New SELL Trade Open\")\n",
    "                opened_orders.append([data.index[i],p1,p2,asset1,asset2,pos1,pos2])\n",
    "                open_trades=True\n",
    "        else:\n",
    "            if(asset1==\"LONG\" and data.z_score[i]<=cl_lvl1):\n",
    "                pos1=p1\n",
    "                pos2=-96*p2\n",
    "                pnl=(pos1/opened_orders[-1][5])-1+1-(pos2/opened_orders[-1][6])\n",
    "                closed_orders.append([data.index[i],p1,p2,opened_orders[-1][5],opened_orders[-1][6],asset1,asset2,pos1,pos2,pnl])\n",
    "                del opened_orders[-1]\n",
    "                #print(\"Closing Order BUY\")\n",
    "                open_trades=False\n",
    "            elif(asset1==\"SHORT\" and data.z_score[i]>=cl_lvl2):\n",
    "                pos1=-p1\n",
    "                pos2=96*p2\n",
    "                pnl=1-(pos1/opened_orders[-1][5])+(pos2/opened_orders[-1][6])-1\n",
    "                closed_orders.append([data.index[i],p1,p2,opened_orders[-1][5],opened_orders[-1][6],asset1,asset2,pos1,pos2,pnl])\n",
    "                del opened_orders[-1]\n",
    "                #print(\"Closing Order SELL\")\n",
    "                open_trades=False\n",
    "    returns = pd.DataFrame(closed_orders,columns=['date','price1','price2','pos1old','pos2old','type of order1','type of order2','pos1','pos2','pnl'])\n",
    "    #returns.tail()\n",
    "    return(returns.pnl.cumsum().iloc[-1])\n",
    "    #plt.plot(returns.pnl.cumsum())\n",
    "    #plt.title('{}, {}, {}'.format(returns.pnl.cumsum().iloc[-1],cl_lvl1,cl_lvl2))"
   ]
  },
  {
   "cell_type": "code",
   "execution_count": 479,
   "metadata": {},
   "outputs": [
    {
     "data": {
      "text/plain": [
       "-0.3263621241702205"
      ]
     },
     "execution_count": 479,
     "metadata": {},
     "output_type": "execute_result"
    }
   ],
   "source": [
    "trade(data,1.5,-1.5,0.1,-0.1)"
   ]
  },
  {
   "cell_type": "code",
   "execution_count": 480,
   "metadata": {},
   "outputs": [
    {
     "data": {
      "text/plain": [
       "0.0"
      ]
     },
     "execution_count": 480,
     "metadata": {},
     "output_type": "execute_result"
    }
   ],
   "source": [
    "optimization_levels = [np.arange(0,2,0.1),np.arange(-2,0,0.1)]\n",
    "optimization_upper_lower = [np.arange(1,3,0.1),np.arange(-3,0,0.1)]\n",
    "\n",
    "opt_res = []\n",
    "optimization[0][0]"
   ]
  },
  {
   "cell_type": "code",
   "execution_count": null,
   "metadata": {},
   "outputs": [],
   "source": [
    "for level1 in optimization_levels[0]:\n",
    "    for level2 in optimization_levels[1]:\n",
    "        for upper in optimization_upper_lower[0]:\n",
    "            for lower in optimization_upper_lower[1]:\n",
    "                opt_res.append([trade(data,upper,lower,level1,level2),upper,lower,level1,level2])"
   ]
  },
  {
   "cell_type": "code",
   "execution_count": 459,
   "metadata": {},
   "outputs": [],
   "source": [
    "optim_df = pd.DataFrame(opt_res, columns=['return','levl1','levl2'])"
   ]
  },
  {
   "cell_type": "code",
   "execution_count": 473,
   "metadata": {},
   "outputs": [],
   "source": [
    "optim_df.set_index('levl1', inplace=True)"
   ]
  },
  {
   "cell_type": "code",
   "execution_count": 477,
   "metadata": {},
   "outputs": [
    {
     "data": {
      "text/html": [
       "<div>\n",
       "<style scoped>\n",
       "    .dataframe tbody tr th:only-of-type {\n",
       "        vertical-align: middle;\n",
       "    }\n",
       "\n",
       "    .dataframe tbody tr th {\n",
       "        vertical-align: top;\n",
       "    }\n",
       "\n",
       "    .dataframe thead th {\n",
       "        text-align: right;\n",
       "    }\n",
       "</style>\n",
       "<table border=\"1\" class=\"dataframe\">\n",
       "  <thead>\n",
       "    <tr style=\"text-align: right;\">\n",
       "      <th></th>\n",
       "      <th>return</th>\n",
       "      <th>levl2</th>\n",
       "    </tr>\n",
       "    <tr>\n",
       "      <th>levl1</th>\n",
       "      <th></th>\n",
       "      <th></th>\n",
       "    </tr>\n",
       "  </thead>\n",
       "  <tbody>\n",
       "    <tr>\n",
       "      <th>0.6</th>\n",
       "      <td>0.031047</td>\n",
       "      <td>-1.4</td>\n",
       "    </tr>\n",
       "    <tr>\n",
       "      <th>0.6</th>\n",
       "      <td>0.012565</td>\n",
       "      <td>-1.7</td>\n",
       "    </tr>\n",
       "    <tr>\n",
       "      <th>0.6</th>\n",
       "      <td>-0.001457</td>\n",
       "      <td>-1.3</td>\n",
       "    </tr>\n",
       "    <tr>\n",
       "      <th>0.6</th>\n",
       "      <td>-0.003503</td>\n",
       "      <td>-1.8</td>\n",
       "    </tr>\n",
       "    <tr>\n",
       "      <th>0.6</th>\n",
       "      <td>-0.003953</td>\n",
       "      <td>-1.0</td>\n",
       "    </tr>\n",
       "  </tbody>\n",
       "</table>\n",
       "</div>"
      ],
      "text/plain": [
       "         return  levl2\n",
       "levl1                 \n",
       "0.6    0.031047   -1.4\n",
       "0.6    0.012565   -1.7\n",
       "0.6   -0.001457   -1.3\n",
       "0.6   -0.003503   -1.8\n",
       "0.6   -0.003953   -1.0"
      ]
     },
     "execution_count": 477,
     "metadata": {},
     "output_type": "execute_result"
    }
   ],
   "source": [
    "optim_df.sort_values(by=[\"return\"], ascending=False, inplace=True)\n",
    "optim_df.head()"
   ]
  }
 ],
 "metadata": {
  "anaconda-cloud": {},
  "kernelspec": {
   "display_name": "Python 3",
   "language": "python",
   "name": "python3"
  },
  "language_info": {
   "codemirror_mode": {
    "name": "ipython",
    "version": 3
   },
   "file_extension": ".py",
   "mimetype": "text/x-python",
   "name": "python",
   "nbconvert_exporter": "python",
   "pygments_lexer": "ipython3",
   "version": "3.7.7"
  }
 },
 "nbformat": 4,
 "nbformat_minor": 1
}
